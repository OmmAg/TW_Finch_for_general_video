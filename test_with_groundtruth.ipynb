{
 "cells": [
  {
   "cell_type": "code",
   "execution_count": 1,
   "metadata": {},
   "outputs": [],
   "source": [
    "from twfinch import FINCH\n",
    "import numpy as np\n",
    "import scipy.io"
   ]
  },
  {
   "cell_type": "code",
   "execution_count": 2,
   "metadata": {},
   "outputs": [
    {
     "name": "stdout",
     "output_type": "stream",
     "text": [
      "Shape of features :  (2403, 1000)\n"
     ]
    }
   ],
   "source": [
    "#Provide the .mat feature file\n",
    "\n",
    "mat_data = scipy.io.loadmat('features1.mat')\n",
    "\n",
    "# Code starts:\n",
    "\n",
    "features = mat_data['features']\n",
    "print(\"Shape of features : \",features.shape)"
   ]
  },
  {
   "cell_type": "code",
   "execution_count": 3,
   "metadata": {},
   "outputs": [
    {
     "name": "stdout",
     "output_type": "stream",
     "text": [
      "Max NMI Score: 95.36\n",
      "Number of clusters :  5\n"
     ]
    }
   ],
   "source": [
    "# Use only when Ground Truth can be provided\n",
    "# Get the maximum possible NMI by varying the cluster size\n",
    "# Provide the frame numbers where transition is expected (frame number vary from 1 to the last frame)\n",
    "# to get the frame number if the filename is frames_x.jpg, frame_number = x/sample_rate\n",
    "\n",
    "transitions = [175,569,1342,1572,2174]\n",
    "\n",
    "# Code starts \n",
    "j = 0\n",
    "x1 = 0\n",
    "gt = []\n",
    "x = features.shape[0]\n",
    "for transition in transitions:\n",
    "    x2 = transition\n",
    "    for l in range(x1,x2):\n",
    "        gt.append(j)\n",
    "    j = j+1\n",
    "    x1 = x2\n",
    "for k in range(transitions[-1],x):\n",
    "    gt.append(j)\n",
    "\n",
    "gt = np.array(gt)\n",
    "\n",
    "\n",
    "from sklearn.metrics import normalized_mutual_info_score as nmi\n",
    "\n",
    "max_clust = 0\n",
    "max_score = 0\n",
    "\n",
    "for i in range(3,50):\n",
    "    c, num_clust, req_c = FINCH(features, req_clust=i, tw_finch=True)\n",
    "    score = nmi(gt, req_c)\n",
    "    max_score = max(max_score,score)\n",
    "    if(max_score == score):\n",
    "        max_clust = i\n",
    "\n",
    "print('Max NMI Score: {:.2f}'.format(max_score * 100))\n",
    "print('Number of clusters : ', max_clust)"
   ]
  },
  {
   "cell_type": "code",
   "execution_count": 4,
   "metadata": {},
   "outputs": [
    {
     "name": "stdout",
     "output_type": "stream",
     "text": [
      "frame_5690.jpg\n",
      "frame_10640.jpg\n",
      "frame_13420.jpg\n",
      "frame_15720.jpg\n",
      "frame_21740.jpg\n",
      "NMI Score: 89.39\n"
     ]
    }
   ],
   "source": [
    "# Provide the required number of clusters in the req_clust field\n",
    "# Provide the directory in which the relevant frames are stored\n",
    "\n",
    "c, num_clust, req_c = FINCH(features, req_clust=6, tw_finch=True)\n",
    "dir_name = 'frames1'\n",
    "\n",
    "\n",
    "import os\n",
    "frames = os.listdir(dir_name)\n",
    "frames = sorted(frames, key=lambda x: os.path.getctime(os.path.join(dir_name, x)))\n",
    "\n",
    "# print(np.unique(req_c))\n",
    "# print(c.shape)\n",
    "# print(req_c.shape)\n",
    "\n",
    "#req_c returns the label of each frame. Frames beloging to the same label form a cluster\n",
    "\n",
    "#The below code prints the image number which acts as a transition point\n",
    "\n",
    "curr_value = req_c[0]\n",
    "for j in range(0,req_c.shape[0]):\n",
    "    if(not(curr_value == req_c[j])):\n",
    "        curr_value = req_c[j]\n",
    "        print(frames[j])\n",
    "\n",
    "#Get the NMI score\n",
    "\n",
    "from sklearn.metrics import normalized_mutual_info_score as nmi\n",
    "score = nmi(gt, req_c)\n",
    "print('NMI Score: {:.2f}'.format(score * 100))"
   ]
  }
 ],
 "metadata": {
  "kernelspec": {
   "display_name": "Python 3.8.10 64-bit",
   "language": "python",
   "name": "python3"
  },
  "language_info": {
   "codemirror_mode": {
    "name": "ipython",
    "version": 3
   },
   "file_extension": ".py",
   "mimetype": "text/x-python",
   "name": "python",
   "nbconvert_exporter": "python",
   "pygments_lexer": "ipython3",
   "version": "3.8.10"
  },
  "orig_nbformat": 4,
  "vscode": {
   "interpreter": {
    "hash": "916dbcbb3f70747c44a77c7bcd40155683ae19c65e1c03b4aa3499c5328201f1"
   }
  }
 },
 "nbformat": 4,
 "nbformat_minor": 2
}
