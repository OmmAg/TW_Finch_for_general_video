{
 "cells": [
  {
   "cell_type": "code",
   "execution_count": null,
   "metadata": {},
   "outputs": [
    {
     "name": "stdout",
     "output_type": "stream",
     "text": [
      "Number of total frames :  24022\n"
     ]
    }
   ],
   "source": [
    "'''\n",
    "    Extraction of frames\n",
    "\n",
    "    Keep the downloaded video in this same directory as this script\n",
    "    Provide the filename of the video and the dirname for storing frames\n",
    "    Ensure that the above directory does not already exists\n",
    "    You can also specify the sampling rate of frames from the video\n",
    "'''\n",
    "\n",
    "import cv2\n",
    "import os\n",
    "\n",
    "#Download the required video and place it in the same directory as this and provide the filename\n",
    "\n",
    "filename = 'Video_1.mp4'\n",
    "dirname = 'frames1' # filename for storing frames\n",
    "\n",
    "# Open video using OpenCV\n",
    "cap = cv2.VideoCapture(filename)\n",
    "\n",
    "# Set frame count and sampling rate\n",
    "num_frames = int(cap.get(cv2.CAP_PROP_FRAME_COUNT))\n",
    "sample_rate = 10  # extract every 10th frame\n",
    "\n",
    "print(\"Number of total frames : \" ,num_frames) \n",
    "\n",
    "#ensure that no directory with this name already exists\n",
    "os.mkdir(dirname)\n",
    "for i in range(num_frames):\n",
    "    ret, frame = cap.read()\n",
    "    if i % sample_rate == 0:\n",
    "        cv2.imwrite(f\"{dirname}/frame_{i}.jpg\", frame)\n",
    "\n",
    "# # Release video and close all windows\n",
    "cap.release()\n",
    "cv2.destroyAllWindows()\n"
   ]
  },
  {
   "cell_type": "code",
   "execution_count": null,
   "metadata": {},
   "outputs": [],
   "source": [
    "\n",
    "'''\n",
    "  Extraction of feature space from the frames \n",
    "\n",
    "  Saves the features in the filename provided file\n",
    "'''\n",
    "\n",
    "features_file_name = 'features2.mat'\n",
    "\n",
    "import torch\n",
    "import torchvision.transforms as transforms\n",
    "import PIL.Image\n",
    "import numpy as np\n",
    "\n",
    "# Load the pre-trained ResNet model\n",
    "model = torch.hub.load('pytorch/vision:v0.13.1', 'resnet18', weights=\"ResNet18_Weights.DEFAULT\")\n",
    "\n",
    "# Define a function to preprocess the image\n",
    "def preprocess_image(image_path):\n",
    "  img = PIL.Image.open(image_path)\n",
    "  img = img.resize((224, 224), PIL.Image.LANCZOS)\n",
    "  transform = transforms.Compose([\n",
    "      transforms.ToTensor(),\n",
    "      transforms.Normalize(mean=[0.485, 0.456, 0.406], std=[0.229, 0.224, 0.225])\n",
    "  ])\n",
    "  img_tensor = transform(img)\n",
    "  img_tensor = img_tensor.unsqueeze(0)\n",
    "  return img_tensor\n",
    "\n",
    "# Define a function to extract features from the image\n",
    "def extract_features(image_paths, model):\n",
    "  features_list = []\n",
    "  for image_path in image_paths:\n",
    "    img_tensor = preprocess_image(image_path)\n",
    "    features = model(img_tensor)\n",
    "    features = features.view(features.size(0), -1) # flatten the feature maps\n",
    "    features = features.detach().numpy()\n",
    "    features = np.squeeze(features) # remove batch dimension\n",
    "    features_list.append(features)\n",
    "  features_array = np.stack(features_list, axis=0)\n",
    "  return features_array\n",
    "\n",
    "# Extract features from an example image and convert to 1D NumPy array\n",
    "image_paths = []\n",
    "for i in range(0,num_frames,sample_rate):\n",
    "  image_paths.append(f\"{dirname}/frame_{i}.jpg\")\n",
    "features_array = extract_features(image_paths, model)\n",
    "\n",
    "# Print the shape of the extracted features\n",
    "print(\"Shape of extracted features:\", features_array.shape)\n",
    "# print(features_array)\n",
    "\n",
    "import scipy.io\n",
    "\n",
    "scipy.io.savemat(f'{features_file_name}',{'features':features_array})\n",
    "\n",
    "\n"
   ]
  }
 ],
 "metadata": {
  "kernelspec": {
   "display_name": "Python 3 (ipykernel)",
   "language": "python",
   "name": "python3"
  },
  "language_info": {
   "codemirror_mode": {
    "name": "ipython",
    "version": 3
   },
   "file_extension": ".py",
   "mimetype": "text/x-python",
   "name": "python",
   "nbconvert_exporter": "python",
   "pygments_lexer": "ipython3",
   "version": "3.8.10"
  },
  "vscode": {
   "interpreter": {
    "hash": "916dbcbb3f70747c44a77c7bcd40155683ae19c65e1c03b4aa3499c5328201f1"
   }
  }
 },
 "nbformat": 4,
 "nbformat_minor": 2
}
