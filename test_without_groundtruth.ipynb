{
 "cells": [
  {
   "cell_type": "code",
   "execution_count": 1,
   "metadata": {},
   "outputs": [],
   "source": [
    "from twfinch import FINCH\n",
    "import numpy as np\n",
    "import scipy.io"
   ]
  },
  {
   "cell_type": "code",
   "execution_count": 2,
   "metadata": {},
   "outputs": [
    {
     "name": "stdout",
     "output_type": "stream",
     "text": [
      "Shape of features matrix :  (2403, 1000)\n"
     ]
    }
   ],
   "source": [
    "#Provide the .mat feature file\n",
    "\n",
    "mat_data = scipy.io.loadmat('features1.mat')\n",
    "\n",
    "features = mat_data['features']\n",
    "print(\"Shape of features matrix : \",features.shape)"
   ]
  },
  {
   "cell_type": "code",
   "execution_count": 3,
   "metadata": {},
   "outputs": [
    {
     "name": "stdout",
     "output_type": "stream",
     "text": [
      "Number of clusters in each partitioning : \n",
      "694\n",
      "213\n",
      "66\n",
      "21\n",
      "6\n",
      "2\n"
     ]
    }
   ],
   "source": [
    "# Use this to get the number of clusters that are formed in each partitioning\n",
    "\n",
    "c, num_clust, req_c = FINCH(features, req_clust=None, tw_finch=True)\n",
    "\n",
    "x = c.shape[0] - 1\n",
    "\n",
    "print(\"Number of clusters in each partitioning : \")\n",
    "for i in range(c.shape[1]):\n",
    "    print(c[x][i] + 1)"
   ]
  },
  {
   "cell_type": "code",
   "execution_count": 4,
   "metadata": {},
   "outputs": [
    {
     "name": "stdout",
     "output_type": "stream",
     "text": [
      "The frames where transition occurs: \n",
      "frame_5690.jpg\n",
      "frame_10640.jpg\n",
      "frame_13420.jpg\n",
      "frame_15720.jpg\n",
      "frame_21740.jpg\n"
     ]
    }
   ],
   "source": [
    "# Provide the required number of clusters in the req_clust field(the above values can be used)\n",
    "# Provide the directory in which the relevant frames are stored\n",
    "\n",
    "c, num_clust, req_c = FINCH(features, req_clust=6, tw_finch=True)\n",
    "dir_name = 'frames1'\n",
    "\n",
    "\n",
    "import os\n",
    "frames = os.listdir(dir_name)\n",
    "frames = sorted(frames, key=lambda x: os.path.getctime(os.path.join(dir_name, x)))\n",
    "\n",
    "# print(np.unique(req_c))\n",
    "# print(c.shape)\n",
    "# print(req_c.shape)\n",
    "\n",
    "#req_c returns the label of each frame. Frames beloging to the same label form a cluster\n",
    "\n",
    "#The below code prints the image number which acts as a transition point\n",
    "\n",
    "print(\"The frames where transition occurs: \")\n",
    "\n",
    "curr_value = req_c[0]\n",
    "for j in range(0,req_c.shape[0]):\n",
    "    if(not(curr_value == req_c[j])):\n",
    "        curr_value = req_c[j]\n",
    "        print(frames[j])"
   ]
  }
 ],
 "metadata": {
  "kernelspec": {
   "display_name": "Python 3",
   "language": "python",
   "name": "python3"
  },
  "language_info": {
   "codemirror_mode": {
    "name": "ipython",
    "version": 3
   },
   "file_extension": ".py",
   "mimetype": "text/x-python",
   "name": "python",
   "nbconvert_exporter": "python",
   "pygments_lexer": "ipython3",
   "version": "3.8.10"
  },
  "orig_nbformat": 4,
  "vscode": {
   "interpreter": {
    "hash": "916dbcbb3f70747c44a77c7bcd40155683ae19c65e1c03b4aa3499c5328201f1"
   }
  }
 },
 "nbformat": 4,
 "nbformat_minor": 2
}
